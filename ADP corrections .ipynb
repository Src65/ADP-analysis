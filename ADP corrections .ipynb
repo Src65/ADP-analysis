{
 "cells": [
  {
   "cell_type": "code",
   "execution_count": 203,
   "metadata": {
    "collapsed": true
   },
   "outputs": [],
   "source": [
    "import pandas as pd\n",
    "import numpy as np\n",
    "import glob\n",
    "import matplotlib.pyplot as plt\n",
    "from scipy import stats\n",
    "import scipy\n",
    "import csv\n",
    "import os\n",
    "from os import listdir"
   ]
  },
  {
   "cell_type": "code",
   "execution_count": 204,
   "metadata": {
    "collapsed": false
   },
   "outputs": [],
   "source": [
    "path = 'C:/Users/steve/Desktop/Thesis/ADP files/09.03.16'\n",
    "file_group = 'SWC1609011431'\n",
    "site_location = 'C.B1S10'\n",
    "os.chdir(path)\n",
    "beam1 ='%s.a1'% file_group\n",
    "beam2 ='%s.a2'% file_group\n",
    "beam3 ='%s.a3'% file_group\n",
    "VE_file = '%s.ve'% file_group\n",
    "VN_file = '%s.vn'% file_group\n",
    "VU_file = '%s.vu'% file_group\n",
    "save_name=(VU_file[:-3]) # save file name string\n",
    "save_file_name = (path[-8:])\n",
    "#signal amplitude\n",
    "beam1= pd.read_csv(beam1, delimiter='\\s+', header=None)\n",
    "beam1 = np.array(np.std(beam1,axis = 0)[1:])\n",
    "beam2= pd.read_csv(beam2, delimiter='\\s+', header=None)\n",
    "beam2 = np.array(np.std(beam2,axis = 0)[1:])\n",
    "beam3= pd.read_csv(beam3, delimiter='\\s+', header=None)\n",
    "beam3 = np.array(np.std(beam3,axis = 0)[1:])\n",
    "#velocities\n",
    "VE = pd.read_csv(VE_file, delimiter='\\s+', header=None)\n",
    "VN = pd.read_csv(VN_file, delimiter='\\s+', header=None)\n",
    "VU = pd.read_csv(VU_file, delimiter='\\s+', header=None)\n",
    "# average velocities \n",
    "meanVE = np.array(np.mean(VE, axis = 0)[1:]) # average profiles across a depth bin\n",
    "meanVN = np.array(np.mean(VN, axis = 0)[1:])\n",
    "meanVU = np.array(np.mean(VU, axis = 0)[1:])\n",
    "# standard deveation of velocities\n",
    "VE_SD = np.array(np.std(VE,axis = 0)[1:])\n",
    "VN_SD= np.array(np.std(VN,axis = 0)[1:])\n",
    "VU_SD = np.array(np.std(VU,axis = 0)[1:])\n",
    "# max and min velocities\n",
    "max_VE = np.array(np.max(VE,axis = 0)[1:])\n",
    "max_VN = np.array(np.max(VN,axis = 0)[1:])\n",
    "max_VU = np.array(np.max(VU,axis = 0)[1:])\n",
    "min_VE =np.array(np.min(VE,axis = 0)[1:])\n",
    "min_VN =np.array(np.min(VN,axis = 0)[1:])\n",
    "min_VU =np.array(np.min(VU,axis = 0)[1:])\n",
    "# combine two vectors into 1 using a^2 + b^2 = c^2. Solve for C\n",
    "VNE = np.array((VE_SD**2 + VN_SD**2)**.5)\n",
    "\n"
   ]
  },
  {
   "cell_type": "code",
   "execution_count": 205,
   "metadata": {
    "collapsed": false
   },
   "outputs": [],
   "source": [
    "all_data=pd.DataFrame()\n",
    "all_data['Depth (m)'] = np.arange(.7,15.4, .7)\n",
    "all_data['VNE (cm/s)'] = VNE\n",
    "all_data['meanVE (cm/s)'] = meanVE\n",
    "all_data['meanVN (cm/s)'] = meanVN\n",
    "all_data['meanVU (cm/s)'] = meanVU\n",
    "all_data['StD_VE (cm/s)'] = VE_SD\n",
    "all_data['StD_VN (cm/s)'] = VN_SD\n",
    "all_data['StD_VU (cm/s)'] = VU_SD\n",
    "all_data['maxVE (cm/s)'] = max_VE\n",
    "all_data['maxVN (cm/s)'] = max_VN\n",
    "all_data['maxVU (cm/s)'] = max_VU\n",
    "all_data['minVE (cm/s)'] = min_VE\n",
    "all_data['minVN (cm/s)'] = min_VN\n",
    "all_data['minVU (cm/s)'] = min_VU\n",
    "\n",
    "\n",
    "\n",
    "all_data.to_csv(save_file_name+'.'+site_location+'.csv')\n",
    "#save as csv directory name wich is date MM.DD.YY.Block(number)Site(number) "
   ]
  },
  {
   "cell_type": "code",
   "execution_count": 206,
   "metadata": {
    "collapsed": false
   },
   "outputs": [
    {
     "data": {
      "image/png": "[encoded data removed]",
      "text/plain": [
       "<matplotlib.figure.Figure at 0xcad62eb908>"
      ]
     },
     "metadata": {},
     "output_type": "display_data"
    }
   ],
   "source": [
    "plt.figure()\n",
    "plt.plot(beam1)\n",
    "plt.plot(VNE, 'r-')\n",
    "plt.plot(beam2)\n",
    "plt.plot(beam3)\n",
    "plt.show()"
   ]
  },
  {
   "cell_type": "code",
   "execution_count": null,
   "metadata": {
    "collapsed": true
   },
   "outputs": [],
   "source": []
  }
 ],
 "metadata": {
  "kernelspec": {
   "display_name": "Python 3",
   "language": "python",
   "name": "python3"
  },
  "language_info": {
   "codemirror_mode": {
    "name": "ipython",
    "version": 3
   },
   "file_extension": ".py",
   "mimetype": "text/x-python",
   "name": "python",
   "nbconvert_exporter": "python",
   "pygments_lexer": "ipython3",
   "version": "3.6.0"
  }
 },
 "nbformat": 4,
 "nbformat_minor": 2
}
