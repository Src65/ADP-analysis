{
 "cells": [
  {
   "cell_type": "markdown",
   "metadata": {},
   "source": [
    "ADP data by Steven Cunningham 06/16/17\n",
    "\n",
    "This code is intened for take SonTek ADP data\n",
    "- First determine seafloor by signal amplitude file \".a#\". The signal should slowly decay through water, when decay is\n",
    "  interupted with amplitude spike, then the signal is bouncing back from the floor. \n",
    "- Compare one bin to the previous until the next bin is larger than previous.\n",
    "- Number of good profiles will be used on velocity data. "
   ]
  },
  {
   "cell_type": "code",
   "execution_count": 1,
   "metadata": {
    "collapsed": true
   },
   "outputs": [],
   "source": [
    "import pandas as pd\n",
    "import numpy as np\n",
    "import glob\n",
    "import matplotlib.pyplot as plt\n",
    "from scipy import stats\n",
    "import scipy\n",
    "import csv\n"
   ]
  },
  {
   "cell_type": "code",
   "execution_count": 3,
   "metadata": {
    "collapsed": false
   },
   "outputs": [
    {
     "data": {
      "text/html": [
       "<div>\n",
       "<table border=\"1\" class=\"dataframe\">\n",
       "  <thead>\n",
       "    <tr style=\"text-align: right;\">\n",
       "      <th></th>\n",
       "      <th>0</th>\n",
       "      <th>1</th>\n",
       "      <th>2</th>\n",
       "      <th>3</th>\n",
       "      <th>4</th>\n",
       "      <th>5</th>\n",
       "      <th>6</th>\n",
       "      <th>7</th>\n",
       "      <th>8</th>\n",
       "      <th>9</th>\n",
       "      <th>...</th>\n",
       "      <th>13</th>\n",
       "      <th>14</th>\n",
       "      <th>15</th>\n",
       "      <th>16</th>\n",
       "      <th>17</th>\n",
       "      <th>18</th>\n",
       "      <th>19</th>\n",
       "      <th>20</th>\n",
       "      <th>21</th>\n",
       "      <th>22</th>\n",
       "    </tr>\n",
       "  </thead>\n",
       "  <tbody>\n",
       "    <tr>\n",
       "      <th>0</th>\n",
       "      <td>1</td>\n",
       "      <td>147</td>\n",
       "      <td>132</td>\n",
       "      <td>117</td>\n",
       "      <td>110</td>\n",
       "      <td>104</td>\n",
       "      <td>105</td>\n",
       "      <td>121</td>\n",
       "      <td>158</td>\n",
       "      <td>169</td>\n",
       "      <td>...</td>\n",
       "      <td>33</td>\n",
       "      <td>30</td>\n",
       "      <td>29</td>\n",
       "      <td>31</td>\n",
       "      <td>37</td>\n",
       "      <td>42</td>\n",
       "      <td>42</td>\n",
       "      <td>34</td>\n",
       "      <td>29</td>\n",
       "      <td>27</td>\n",
       "    </tr>\n",
       "    <tr>\n",
       "      <th>1</th>\n",
       "      <td>2</td>\n",
       "      <td>149</td>\n",
       "      <td>133</td>\n",
       "      <td>118</td>\n",
       "      <td>110</td>\n",
       "      <td>107</td>\n",
       "      <td>109</td>\n",
       "      <td>118</td>\n",
       "      <td>159</td>\n",
       "      <td>176</td>\n",
       "      <td>...</td>\n",
       "      <td>32</td>\n",
       "      <td>28</td>\n",
       "      <td>27</td>\n",
       "      <td>28</td>\n",
       "      <td>34</td>\n",
       "      <td>43</td>\n",
       "      <td>44</td>\n",
       "      <td>32</td>\n",
       "      <td>26</td>\n",
       "      <td>24</td>\n",
       "    </tr>\n",
       "    <tr>\n",
       "      <th>2</th>\n",
       "      <td>3</td>\n",
       "      <td>148</td>\n",
       "      <td>137</td>\n",
       "      <td>124</td>\n",
       "      <td>112</td>\n",
       "      <td>107</td>\n",
       "      <td>114</td>\n",
       "      <td>125</td>\n",
       "      <td>156</td>\n",
       "      <td>175</td>\n",
       "      <td>...</td>\n",
       "      <td>33</td>\n",
       "      <td>29</td>\n",
       "      <td>27</td>\n",
       "      <td>28</td>\n",
       "      <td>33</td>\n",
       "      <td>40</td>\n",
       "      <td>45</td>\n",
       "      <td>33</td>\n",
       "      <td>26</td>\n",
       "      <td>24</td>\n",
       "    </tr>\n",
       "    <tr>\n",
       "      <th>3</th>\n",
       "      <td>4</td>\n",
       "      <td>160</td>\n",
       "      <td>152</td>\n",
       "      <td>123</td>\n",
       "      <td>109</td>\n",
       "      <td>101</td>\n",
       "      <td>99</td>\n",
       "      <td>104</td>\n",
       "      <td>139</td>\n",
       "      <td>183</td>\n",
       "      <td>...</td>\n",
       "      <td>36</td>\n",
       "      <td>30</td>\n",
       "      <td>27</td>\n",
       "      <td>26</td>\n",
       "      <td>30</td>\n",
       "      <td>39</td>\n",
       "      <td>48</td>\n",
       "      <td>35</td>\n",
       "      <td>26</td>\n",
       "      <td>24</td>\n",
       "    </tr>\n",
       "    <tr>\n",
       "      <th>4</th>\n",
       "      <td>5</td>\n",
       "      <td>152</td>\n",
       "      <td>147</td>\n",
       "      <td>132</td>\n",
       "      <td>113</td>\n",
       "      <td>106</td>\n",
       "      <td>104</td>\n",
       "      <td>104</td>\n",
       "      <td>149</td>\n",
       "      <td>182</td>\n",
       "      <td>...</td>\n",
       "      <td>36</td>\n",
       "      <td>29</td>\n",
       "      <td>26</td>\n",
       "      <td>26</td>\n",
       "      <td>30</td>\n",
       "      <td>44</td>\n",
       "      <td>48</td>\n",
       "      <td>33</td>\n",
       "      <td>26</td>\n",
       "      <td>24</td>\n",
       "    </tr>\n",
       "  </tbody>\n",
       "</table>\n",
       "<p>5 rows × 23 columns</p>\n",
       "</div>"
      ],
      "text/plain": [
       "   0    1    2    3    4    5    6    7    8    9  ...  13  14  15  16  17  \\\n",
       "0   1  147  132  117  110  104  105  121  158  169 ...  33  30  29  31  37   \n",
       "1   2  149  133  118  110  107  109  118  159  176 ...  32  28  27  28  34   \n",
       "2   3  148  137  124  112  107  114  125  156  175 ...  33  29  27  28  33   \n",
       "3   4  160  152  123  109  101   99  104  139  183 ...  36  30  27  26  30   \n",
       "4   5  152  147  132  113  106  104  104  149  182 ...  36  29  26  26  30   \n",
       "\n",
       "   18  19  20  21  22  \n",
       "0  42  42  34  29  27  \n",
       "1  43  44  32  26  24  \n",
       "2  40  45  33  26  24  \n",
       "3  39  48  35  26  24  \n",
       "4  44  48  33  26  24  \n",
       "\n",
       "[5 rows x 23 columns]"
      ]
     },
     "execution_count": 3,
     "metadata": {},
     "output_type": "execute_result"
    }
   ],
   "source": [
    "sig_amp = 'SWC0610130945.a1'\n",
    "df = pd.read_csv(sig_amp, delimiter='\\s+', header=None)\n",
    "df.head()"
   ]
  },
  {
   "cell_type": "code",
   "execution_count": 66,
   "metadata": {
    "collapsed": false
   },
   "outputs": [
    {
     "name": "stdout",
     "output_type": "stream",
     "text": [
      "1    150.357143\n",
      "2    136.642857\n",
      "3    122.071429\n",
      "4    113.500000\n",
      "5    108.214286\n",
      "Name: average_profile, dtype: float64\n"
     ]
    }
   ],
   "source": [
    "mean = np.mean(df, axis = 0)[1:] # average profiles across a depth bin\n",
    "mean2 = pd.Series.to_frame(mean, 'average_profile') # transform to dataframe \n",
    "mean2[\"next_profile\"] = mean2[\"average_profile\"].shift(-1) # Shift down to commpare difference \n",
    "mean2[\"Nartural_decay\"] = mean2[\"average_profile\"] > mean2[\"next_profile\"] # check if the next bin is greater than previous \n",
    "mean2[\"True_profile\"] = mean2[\"Nartural_decay\"].cumsum() # gives values to groups of true/false\n",
    "mean2[\"Number\"] = np.arange(23)[1:] # make a range of values \n",
    "mean2[\"good_profile\"] = mean2[\"True_profile\"] == mean2[\"Number\"] # see if values assigned to true/false match number order  \n",
    "#print(mean2)\n",
    "how_many=sum(mean2[\"good_profile\"]) # how many good profiles are there. This will be used on velocity data \n",
    "mean3=mean2[\"average_profile\"][:how_many+1] # get profile values for good bins. Add 1 because the .shift \n"
   ]
  },
  {
   "cell_type": "code",
   "execution_count": null,
   "metadata": {
    "collapsed": false
   },
   "outputs": [],
   "source": []
  },
  {
   "cell_type": "code",
   "execution_count": null,
   "metadata": {
    "collapsed": false
   },
   "outputs": [],
   "source": []
  },
  {
   "cell_type": "code",
   "execution_count": null,
   "metadata": {
    "collapsed": true
   },
   "outputs": [],
   "source": []
  }
 ],
 "metadata": {
  "kernelspec": {
   "display_name": "Python 3",
   "language": "python",
   "name": "python3"
  },
  "language_info": {
   "codemirror_mode": {
    "name": "ipython",
    "version": 3
   },
   "file_extension": ".py",
   "mimetype": "text/x-python",
   "name": "python",
   "nbconvert_exporter": "python",
   "pygments_lexer": "ipython3",
   "version": "3.6.0"
  }
 },
 "nbformat": 4,
 "nbformat_minor": 2
}
