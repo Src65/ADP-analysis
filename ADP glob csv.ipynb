{
 "cells": [
  {
   "cell_type": "code",
   "execution_count": 4,
   "metadata": {
    "collapsed": true
   },
   "outputs": [],
   "source": [
    "import pandas as pd\n",
    "import numpy as np\n",
    "import glob\n",
    "import matplotlib.pyplot as plt\n",
    "from scipy import stats\n",
    "import scipy\n",
    "import csv\n",
    "import os"
   ]
  },
  {
   "cell_type": "code",
   "execution_count": 17,
   "metadata": {
    "collapsed": false
   },
   "outputs": [],
   "source": [
    "path = 'C:\\\\Users\\\\steve\\\\Desktop\\\\Thesis\\\\ADP files\\\\10.13.16'#example C:\\\\Users\\\\steve\\\\Desktop\\\\Thesis\\\\ADP files\\\\10.13.16\n",
    "path2 = 'C:\\\\Users\\\\steve\\\\Desktop\\\\Thesis\\\\ADP files'\n",
    "os.chdir(path)\n",
    "all_data = pd.DataFrame()\n",
    "\n",
    "for f in glob.glob(path+'\\*.csv'): #you may need to change \\ -> / if on mac\n",
    "    df = pd.read_csv(f,sep=',') #you may need to change \\ -> / if on mac\n",
    "    all_data = all_data.append(df,ignore_index=True) \n",
    "    \n",
    "#all_data=all_data[1:]    \n",
    "file_name = \"%s_%s.csv\" % (path[-8:], 'ADPcombined')  \n",
    "all_data.to_csv(file_name) \n",
    "os.chdir(path2)\n",
    "all_data.to_csv(file_name)"
   ]
  },
  {
   "cell_type": "code",
   "execution_count": null,
   "metadata": {
    "collapsed": true
   },
   "outputs": [],
   "source": []
  }
 ],
 "metadata": {
  "kernelspec": {
   "display_name": "Python 3",
   "language": "python",
   "name": "python3"
  },
  "language_info": {
   "codemirror_mode": {
    "name": "ipython",
    "version": 3
   },
   "file_extension": ".py",
   "mimetype": "text/x-python",
   "name": "python",
   "nbconvert_exporter": "python",
   "pygments_lexer": "ipython3",
   "version": "3.6.0"
  }
 },
 "nbformat": 4,
 "nbformat_minor": 2
}
