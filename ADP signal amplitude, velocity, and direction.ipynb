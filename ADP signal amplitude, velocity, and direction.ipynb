{
 "cells": [
  {
   "cell_type": "markdown",
   "metadata": {},
   "source": [
    "ADP data by Steven Cunningham 06/16/17\n",
    "\n",
    "This code is intened for take SonTek ADP data\n",
    "- First determine seafloor by signal amplitude file \".a#\". The signal should slowly decay through water, when decay is\n",
    "  interupted with amplitude spike, then the signal is bouncing back from the floor. \n",
    "- Compare one bin to the previous until the next bin is larger than previous.\n",
    "- Number of good profiles will be used on velocity data. "
   ]
  },
  {
   "cell_type": "code",
   "execution_count": 516,
   "metadata": {
    "collapsed": true
   },
   "outputs": [],
   "source": [
    "import pandas as pd\n",
    "import numpy as np\n",
    "import glob\n",
    "import matplotlib.pyplot as plt\n",
    "from scipy import stats\n",
    "import scipy\n",
    "import csv\n"
   ]
  },
  {
   "cell_type": "code",
   "execution_count": 517,
   "metadata": {
    "collapsed": false
   },
   "outputs": [
    {
     "data": {
      "text/html": [
       "<div>\n",
       "<table border=\"1\" class=\"dataframe\">\n",
       "  <thead>\n",
       "    <tr style=\"text-align: right;\">\n",
       "      <th></th>\n",
       "      <th>0</th>\n",
       "      <th>1</th>\n",
       "      <th>2</th>\n",
       "      <th>3</th>\n",
       "      <th>4</th>\n",
       "      <th>5</th>\n",
       "      <th>6</th>\n",
       "      <th>7</th>\n",
       "      <th>8</th>\n",
       "      <th>9</th>\n",
       "      <th>...</th>\n",
       "      <th>13</th>\n",
       "      <th>14</th>\n",
       "      <th>15</th>\n",
       "      <th>16</th>\n",
       "      <th>17</th>\n",
       "      <th>18</th>\n",
       "      <th>19</th>\n",
       "      <th>20</th>\n",
       "      <th>21</th>\n",
       "      <th>22</th>\n",
       "    </tr>\n",
       "  </thead>\n",
       "  <tbody>\n",
       "    <tr>\n",
       "      <th>0</th>\n",
       "      <td>1</td>\n",
       "      <td>147</td>\n",
       "      <td>134</td>\n",
       "      <td>121</td>\n",
       "      <td>121</td>\n",
       "      <td>121</td>\n",
       "      <td>140</td>\n",
       "      <td>180</td>\n",
       "      <td>144</td>\n",
       "      <td>92</td>\n",
       "      <td>...</td>\n",
       "      <td>32</td>\n",
       "      <td>40</td>\n",
       "      <td>52</td>\n",
       "      <td>48</td>\n",
       "      <td>43</td>\n",
       "      <td>33</td>\n",
       "      <td>28</td>\n",
       "      <td>27</td>\n",
       "      <td>26</td>\n",
       "      <td>26</td>\n",
       "    </tr>\n",
       "    <tr>\n",
       "      <th>1</th>\n",
       "      <td>2</td>\n",
       "      <td>148</td>\n",
       "      <td>132</td>\n",
       "      <td>118</td>\n",
       "      <td>115</td>\n",
       "      <td>117</td>\n",
       "      <td>141</td>\n",
       "      <td>185</td>\n",
       "      <td>148</td>\n",
       "      <td>95</td>\n",
       "      <td>...</td>\n",
       "      <td>31</td>\n",
       "      <td>39</td>\n",
       "      <td>54</td>\n",
       "      <td>48</td>\n",
       "      <td>41</td>\n",
       "      <td>32</td>\n",
       "      <td>27</td>\n",
       "      <td>25</td>\n",
       "      <td>24</td>\n",
       "      <td>24</td>\n",
       "    </tr>\n",
       "    <tr>\n",
       "      <th>2</th>\n",
       "      <td>3</td>\n",
       "      <td>149</td>\n",
       "      <td>145</td>\n",
       "      <td>125</td>\n",
       "      <td>119</td>\n",
       "      <td>114</td>\n",
       "      <td>142</td>\n",
       "      <td>178</td>\n",
       "      <td>157</td>\n",
       "      <td>101</td>\n",
       "      <td>...</td>\n",
       "      <td>31</td>\n",
       "      <td>35</td>\n",
       "      <td>50</td>\n",
       "      <td>49</td>\n",
       "      <td>42</td>\n",
       "      <td>32</td>\n",
       "      <td>26</td>\n",
       "      <td>25</td>\n",
       "      <td>24</td>\n",
       "      <td>24</td>\n",
       "    </tr>\n",
       "    <tr>\n",
       "      <th>3</th>\n",
       "      <td>4</td>\n",
       "      <td>147</td>\n",
       "      <td>137</td>\n",
       "      <td>131</td>\n",
       "      <td>117</td>\n",
       "      <td>118</td>\n",
       "      <td>129</td>\n",
       "      <td>178</td>\n",
       "      <td>156</td>\n",
       "      <td>84</td>\n",
       "      <td>...</td>\n",
       "      <td>31</td>\n",
       "      <td>33</td>\n",
       "      <td>47</td>\n",
       "      <td>56</td>\n",
       "      <td>41</td>\n",
       "      <td>29</td>\n",
       "      <td>25</td>\n",
       "      <td>24</td>\n",
       "      <td>24</td>\n",
       "      <td>24</td>\n",
       "    </tr>\n",
       "    <tr>\n",
       "      <th>4</th>\n",
       "      <td>5</td>\n",
       "      <td>151</td>\n",
       "      <td>139</td>\n",
       "      <td>137</td>\n",
       "      <td>108</td>\n",
       "      <td>114</td>\n",
       "      <td>124</td>\n",
       "      <td>176</td>\n",
       "      <td>155</td>\n",
       "      <td>75</td>\n",
       "      <td>...</td>\n",
       "      <td>31</td>\n",
       "      <td>31</td>\n",
       "      <td>45</td>\n",
       "      <td>57</td>\n",
       "      <td>40</td>\n",
       "      <td>28</td>\n",
       "      <td>25</td>\n",
       "      <td>24</td>\n",
       "      <td>24</td>\n",
       "      <td>24</td>\n",
       "    </tr>\n",
       "  </tbody>\n",
       "</table>\n",
       "<p>5 rows × 23 columns</p>\n",
       "</div>"
      ],
      "text/plain": [
       "   0    1    2    3    4    5    6    7    8    9  ...  13  14  15  16  17  \\\n",
       "0   1  147  134  121  121  121  140  180  144   92 ...  32  40  52  48  43   \n",
       "1   2  148  132  118  115  117  141  185  148   95 ...  31  39  54  48  41   \n",
       "2   3  149  145  125  119  114  142  178  157  101 ...  31  35  50  49  42   \n",
       "3   4  147  137  131  117  118  129  178  156   84 ...  31  33  47  56  41   \n",
       "4   5  151  139  137  108  114  124  176  155   75 ...  31  31  45  57  40   \n",
       "\n",
       "   18  19  20  21  22  \n",
       "0  33  28  27  26  26  \n",
       "1  32  27  25  24  24  \n",
       "2  32  26  25  24  24  \n",
       "3  29  25  24  24  24  \n",
       "4  28  25  24  24  24  \n",
       "\n",
       "[5 rows x 23 columns]"
      ]
     },
     "execution_count": 517,
     "metadata": {},
     "output_type": "execute_result"
    }
   ],
   "source": [
    "path = 'C:\\\\Users\\\\steve\\\\Desktop\\\\Thesis\\\\ADP files\\\\10.13.16'\n",
    "sig_amp = 'SWC0610130945.a2'\n",
    "VE_file = 'SWC0610130945.ve'\n",
    "VN_file = 'SWC0610130945.vn'\n",
    "df = pd.read_csv(sig_amp, delimiter='\\s+', header=None)\n",
    "df.head()"
   ]
  },
  {
   "cell_type": "code",
   "execution_count": 518,
   "metadata": {
    "collapsed": false
   },
   "outputs": [
    {
     "name": "stdout",
     "output_type": "stream",
     "text": [
      "    average_profile  next_profile Nartural_decay  True_profile  Number  \\\n",
      "1        149.285714    139.642857           True             1       1   \n",
      "2        139.642857    128.785714           True             2       2   \n",
      "3        128.785714    119.428571           True             3       3   \n",
      "4        119.428571    117.642857           True             4       4   \n",
      "5        117.642857    135.571429          False             4       5   \n",
      "6        135.571429    176.428571          False             4       6   \n",
      "7        176.428571    149.428571           True             5       7   \n",
      "8        149.428571     88.500000           True             6       8   \n",
      "9         88.500000     57.071429           True             7       9   \n",
      "10        57.071429     42.285714           True             8      10   \n",
      "11        42.285714     34.857143           True             9      11   \n",
      "12        34.857143     31.714286           True            10      12   \n",
      "13        31.714286     35.857143          False            10      13   \n",
      "14        35.857143     47.000000          False            10      14   \n",
      "15        47.000000     49.000000          False            10      15   \n",
      "16        49.000000     40.428571           True            11      16   \n",
      "17        40.428571     31.000000           True            12      17   \n",
      "18        31.000000     26.428571           True            13      18   \n",
      "19        26.428571     24.571429           True            14      19   \n",
      "20        24.571429     24.142857           True            15      20   \n",
      "21        24.142857     24.142857          False            15      21   \n",
      "22        24.142857           NaN          False            15      22   \n",
      "\n",
      "   good_profile  \n",
      "1          True  \n",
      "2          True  \n",
      "3          True  \n",
      "4          True  \n",
      "5         False  \n",
      "6         False  \n",
      "7         False  \n",
      "8         False  \n",
      "9         False  \n",
      "10        False  \n",
      "11        False  \n",
      "12        False  \n",
      "13        False  \n",
      "14        False  \n",
      "15        False  \n",
      "16        False  \n",
      "17        False  \n",
      "18        False  \n",
      "19        False  \n",
      "20        False  \n",
      "21        False  \n",
      "22        False  \n"
     ]
    }
   ],
   "source": [
    "mean = np.mean(df, axis = 0)[1:] # average profiles across a depth bin\n",
    "mean2 = pd.Series.to_frame(mean, 'average_profile') # transform to dataframe \n",
    "mean2[\"next_profile\"] = mean2[\"average_profile\"].shift(-1) # Shift down to commpare difference \n",
    "mean2[\"Nartural_decay\"] = mean2[\"average_profile\"] > mean2[\"next_profile\"] # check if the next bin is greater than previous \n",
    "mean2[\"True_profile\"] = mean2[\"Nartural_decay\"].cumsum() # gives values to groups of true/false\n",
    "mean2[\"Number\"] = np.arange(23)[1:] # make a range of values \n",
    "mean2[\"good_profile\"] = mean2[\"True_profile\"] == mean2[\"Number\"] # see if values assigned to true/false match number order  \n",
    "print(mean2)\n",
    "\n",
    "how_many=sum(mean2[\"good_profile\"]) # how many good profiles are there. This will be used on velocity data \n",
    "mean3=mean2[\"average_profile\"][:how_many+1] # get profile values for good bins. Add 1 because the .shift \n"
   ]
  },
  {
   "cell_type": "markdown",
   "metadata": {},
   "source": [
    "Now calculate current speed by averaging velocities and direction "
   ]
  },
  {
   "cell_type": "code",
   "execution_count": 519,
   "metadata": {
    "collapsed": false
   },
   "outputs": [
    {
     "data": {
      "text/html": [
       "<div>\n",
       "<table border=\"1\" class=\"dataframe\">\n",
       "  <thead>\n",
       "    <tr style=\"text-align: right;\">\n",
       "      <th></th>\n",
       "      <th>0</th>\n",
       "      <th>1</th>\n",
       "      <th>2</th>\n",
       "      <th>3</th>\n",
       "      <th>4</th>\n",
       "      <th>5</th>\n",
       "      <th>6</th>\n",
       "      <th>7</th>\n",
       "      <th>8</th>\n",
       "      <th>9</th>\n",
       "      <th>...</th>\n",
       "      <th>13</th>\n",
       "      <th>14</th>\n",
       "      <th>15</th>\n",
       "      <th>16</th>\n",
       "      <th>17</th>\n",
       "      <th>18</th>\n",
       "      <th>19</th>\n",
       "      <th>20</th>\n",
       "      <th>21</th>\n",
       "      <th>22</th>\n",
       "    </tr>\n",
       "  </thead>\n",
       "  <tbody>\n",
       "    <tr>\n",
       "      <th>0</th>\n",
       "      <td>1</td>\n",
       "      <td>4.4</td>\n",
       "      <td>3.0</td>\n",
       "      <td>3.3</td>\n",
       "      <td>4.3</td>\n",
       "      <td>4.1</td>\n",
       "      <td>0.4</td>\n",
       "      <td>3.9</td>\n",
       "      <td>6.0</td>\n",
       "      <td>4.9</td>\n",
       "      <td>...</td>\n",
       "      <td>1.5</td>\n",
       "      <td>8.5</td>\n",
       "      <td>4.5</td>\n",
       "      <td>13.3</td>\n",
       "      <td>15.7</td>\n",
       "      <td>-2.9</td>\n",
       "      <td>-7.4</td>\n",
       "      <td>-59.5</td>\n",
       "      <td>-85.5</td>\n",
       "      <td>-83.4</td>\n",
       "    </tr>\n",
       "    <tr>\n",
       "      <th>1</th>\n",
       "      <td>2</td>\n",
       "      <td>1.6</td>\n",
       "      <td>-1.5</td>\n",
       "      <td>0.7</td>\n",
       "      <td>0.6</td>\n",
       "      <td>1.2</td>\n",
       "      <td>-2.9</td>\n",
       "      <td>-2.0</td>\n",
       "      <td>1.7</td>\n",
       "      <td>-0.6</td>\n",
       "      <td>...</td>\n",
       "      <td>-4.6</td>\n",
       "      <td>-3.7</td>\n",
       "      <td>10.1</td>\n",
       "      <td>13.9</td>\n",
       "      <td>15.3</td>\n",
       "      <td>-4.2</td>\n",
       "      <td>-30.6</td>\n",
       "      <td>-65.5</td>\n",
       "      <td>-81.8</td>\n",
       "      <td>-79.2</td>\n",
       "    </tr>\n",
       "    <tr>\n",
       "      <th>2</th>\n",
       "      <td>3</td>\n",
       "      <td>1.6</td>\n",
       "      <td>-0.2</td>\n",
       "      <td>-0.4</td>\n",
       "      <td>4.6</td>\n",
       "      <td>5.0</td>\n",
       "      <td>3.5</td>\n",
       "      <td>-0.3</td>\n",
       "      <td>1.5</td>\n",
       "      <td>-2.0</td>\n",
       "      <td>...</td>\n",
       "      <td>0.0</td>\n",
       "      <td>-1.7</td>\n",
       "      <td>4.9</td>\n",
       "      <td>16.1</td>\n",
       "      <td>11.1</td>\n",
       "      <td>0.1</td>\n",
       "      <td>-14.3</td>\n",
       "      <td>-31.8</td>\n",
       "      <td>-40.1</td>\n",
       "      <td>-11.9</td>\n",
       "    </tr>\n",
       "    <tr>\n",
       "      <th>3</th>\n",
       "      <td>4</td>\n",
       "      <td>-0.7</td>\n",
       "      <td>1.8</td>\n",
       "      <td>2.1</td>\n",
       "      <td>-0.1</td>\n",
       "      <td>0.8</td>\n",
       "      <td>-0.8</td>\n",
       "      <td>1.0</td>\n",
       "      <td>2.9</td>\n",
       "      <td>1.9</td>\n",
       "      <td>...</td>\n",
       "      <td>-1.1</td>\n",
       "      <td>-1.1</td>\n",
       "      <td>5.9</td>\n",
       "      <td>16.5</td>\n",
       "      <td>13.0</td>\n",
       "      <td>1.2</td>\n",
       "      <td>-8.2</td>\n",
       "      <td>-25.5</td>\n",
       "      <td>-37.1</td>\n",
       "      <td>-39.0</td>\n",
       "    </tr>\n",
       "    <tr>\n",
       "      <th>4</th>\n",
       "      <td>5</td>\n",
       "      <td>0.5</td>\n",
       "      <td>-1.5</td>\n",
       "      <td>0.4</td>\n",
       "      <td>0.1</td>\n",
       "      <td>1.0</td>\n",
       "      <td>2.1</td>\n",
       "      <td>0.8</td>\n",
       "      <td>3.8</td>\n",
       "      <td>-1.0</td>\n",
       "      <td>...</td>\n",
       "      <td>2.2</td>\n",
       "      <td>3.5</td>\n",
       "      <td>9.1</td>\n",
       "      <td>11.2</td>\n",
       "      <td>12.3</td>\n",
       "      <td>10.5</td>\n",
       "      <td>12.5</td>\n",
       "      <td>30.2</td>\n",
       "      <td>33.9</td>\n",
       "      <td>26.5</td>\n",
       "    </tr>\n",
       "  </tbody>\n",
       "</table>\n",
       "<p>5 rows × 23 columns</p>\n",
       "</div>"
      ],
      "text/plain": [
       "   0    1    2    3    4    5    6    7    8    9   ...    13   14    15  \\\n",
       "0   1  4.4  3.0  3.3  4.3  4.1  0.4  3.9  6.0  4.9  ...   1.5  8.5   4.5   \n",
       "1   2  1.6 -1.5  0.7  0.6  1.2 -2.9 -2.0  1.7 -0.6  ...  -4.6 -3.7  10.1   \n",
       "2   3  1.6 -0.2 -0.4  4.6  5.0  3.5 -0.3  1.5 -2.0  ...   0.0 -1.7   4.9   \n",
       "3   4 -0.7  1.8  2.1 -0.1  0.8 -0.8  1.0  2.9  1.9  ...  -1.1 -1.1   5.9   \n",
       "4   5  0.5 -1.5  0.4  0.1  1.0  2.1  0.8  3.8 -1.0  ...   2.2  3.5   9.1   \n",
       "\n",
       "     16    17    18    19    20    21    22  \n",
       "0  13.3  15.7  -2.9  -7.4 -59.5 -85.5 -83.4  \n",
       "1  13.9  15.3  -4.2 -30.6 -65.5 -81.8 -79.2  \n",
       "2  16.1  11.1   0.1 -14.3 -31.8 -40.1 -11.9  \n",
       "3  16.5  13.0   1.2  -8.2 -25.5 -37.1 -39.0  \n",
       "4  11.2  12.3  10.5  12.5  30.2  33.9  26.5  \n",
       "\n",
       "[5 rows x 23 columns]"
      ]
     },
     "execution_count": 519,
     "metadata": {},
     "output_type": "execute_result"
    }
   ],
   "source": [
    "\n",
    "\n",
    "VE = pd.read_csv(VE_file, delimiter='\\s+', header=None)\n",
    "VE.head() #depth = axis 0 = profile, axis 1 = depth\n",
    "VN = pd.read_csv(VN_file, delimiter='\\s+', header=None)\n",
    "VN.head() #depth = axis 0 = profile, axis 1 = depth"
   ]
  },
  {
   "cell_type": "code",
   "execution_count": 520,
   "metadata": {
    "collapsed": false
   },
   "outputs": [
    {
     "data": {
      "text/html": [
       "<div>\n",
       "<table border=\"1\" class=\"dataframe\">\n",
       "  <thead>\n",
       "    <tr style=\"text-align: right;\">\n",
       "      <th></th>\n",
       "      <th>1</th>\n",
       "      <th>2</th>\n",
       "      <th>3</th>\n",
       "      <th>4</th>\n",
       "    </tr>\n",
       "  </thead>\n",
       "  <tbody>\n",
       "    <tr>\n",
       "      <th>0</th>\n",
       "      <td>-6.1</td>\n",
       "      <td>-2.6</td>\n",
       "      <td>-1.8</td>\n",
       "      <td>-3.6</td>\n",
       "    </tr>\n",
       "    <tr>\n",
       "      <th>1</th>\n",
       "      <td>2.0</td>\n",
       "      <td>1.3</td>\n",
       "      <td>-0.1</td>\n",
       "      <td>1.4</td>\n",
       "    </tr>\n",
       "    <tr>\n",
       "      <th>2</th>\n",
       "      <td>0.9</td>\n",
       "      <td>0.0</td>\n",
       "      <td>-0.8</td>\n",
       "      <td>-0.1</td>\n",
       "    </tr>\n",
       "    <tr>\n",
       "      <th>3</th>\n",
       "      <td>-0.5</td>\n",
       "      <td>0.9</td>\n",
       "      <td>1.1</td>\n",
       "      <td>-1.9</td>\n",
       "    </tr>\n",
       "    <tr>\n",
       "      <th>4</th>\n",
       "      <td>-0.9</td>\n",
       "      <td>-0.1</td>\n",
       "      <td>-0.7</td>\n",
       "      <td>3.2</td>\n",
       "    </tr>\n",
       "  </tbody>\n",
       "</table>\n",
       "</div>"
      ],
      "text/plain": [
       "     1    2    3    4\n",
       "0 -6.1 -2.6 -1.8 -3.6\n",
       "1  2.0  1.3 -0.1  1.4\n",
       "2  0.9  0.0 -0.8 -0.1\n",
       "3 -0.5  0.9  1.1 -1.9\n",
       "4 -0.9 -0.1 -0.7  3.2"
      ]
     },
     "execution_count": 520,
     "metadata": {},
     "output_type": "execute_result"
    }
   ],
   "source": [
    "VE=VE.iloc[:,1:how_many +1] # use how_many from aplitude to index good velocity profiles, add one because of 0 index\n",
    "VE.head()\n",
    "VN=VN.iloc[:,1:how_many +1] # use how_many from aplitude to index good velocity profiles, add one because of 0 index\n",
    "VE.head()"
   ]
  },
  {
   "cell_type": "code",
   "execution_count": 521,
   "metadata": {
    "collapsed": false
   },
   "outputs": [
    {
     "name": "stdout",
     "output_type": "stream",
     "text": [
      "[ 0.7131178   1.10708852  1.33541941  1.972926  ]\n",
      "[-0.629 -0.014  1.064  1.929] [-0.336 -1.107 -0.807 -0.414]\n"
     ]
    }
   ],
   "source": [
    "# average across same depth and round to .001\n",
    "VEV= np.array(np.round(np.mean(VE, axis = 0), 3)) \n",
    "#VE[\"sign\"]= VE['depth_bin_mean'] < 0\n",
    "VNV = np.array(np.round(np.mean(VN, axis = 0), 3))\n",
    "#VN[\"sign\"]= VN['depth_bin_mean'] < 0\n",
    "#VN[\"depth_bin_mean\"] = VNX\n",
    "NE_vector = (VEV**2 + VNV**2)**.5\n",
    "print(NE_vector)\n",
    "print(VNV, VEV)\n"
   ]
  },
  {
   "cell_type": "code",
   "execution_count": 522,
   "metadata": {
    "collapsed": false,
    "scrolled": true
   },
   "outputs": [
    {
     "name": "stdout",
     "output_type": "stream",
     "text": [
      "   Velocity [cm/s]\n",
      "0         0.713118\n",
      "1         1.107089\n",
      "2         1.335419\n",
      "3         1.972926\n"
     ]
    }
   ],
   "source": [
    "North_sign = VNV > 0\n",
    "East_sign = VEV >0\n",
    "total_velocity = pd.DataFrame(NE_vector, columns = [\"Velocity [cm/s]\"])\n",
    "print(total_velocity)"
   ]
  },
  {
   "cell_type": "code",
   "execution_count": 523,
   "metadata": {
    "collapsed": false
   },
   "outputs": [
    {
     "name": "stdout",
     "output_type": "stream",
     "text": [
      "['S', 'S', 'N', 'N']\n"
     ]
    }
   ],
   "source": [
    "VNV = np.array(VNV) # change from DataFrame to np.array\n",
    "VEV = np.array(VEV)\n",
    "resultsN = []\n",
    "for i in (VNV):    #make lists of the direction from positive or negative velocities \n",
    "    if i > 0:\n",
    "        resultsN.extend(\"N\")\n",
    "    else:\n",
    "        resultsN.extend(\"S\")\n",
    "print(resultsN)"
   ]
  },
  {
   "cell_type": "code",
   "execution_count": 524,
   "metadata": {
    "collapsed": false
   },
   "outputs": [
    {
     "name": "stdout",
     "output_type": "stream",
     "text": [
      "['W', 'W', 'W', 'W']\n"
     ]
    }
   ],
   "source": [
    "resultsE = []\n",
    "for i in (VEV):\n",
    "    if i > 0:\n",
    "        resultsE.extend(\"E\")\n",
    "    else:\n",
    "        resultsE.extend(\"W\")\n",
    "print(resultsE)"
   ]
  },
  {
   "cell_type": "code",
   "execution_count": 525,
   "metadata": {
    "collapsed": false
   },
   "outputs": [
    {
     "name": "stdout",
     "output_type": "stream",
     "text": [
      "   Velocity [cm/s]  Depth (m) Direction1 Direction2\n",
      "0         0.713118        0.7          S          W\n",
      "1         1.107089        1.4          S          W\n",
      "2         1.335419        2.1          N          W\n",
      "3         1.972926        2.8          N          W\n"
     ]
    }
   ],
   "source": [
    "#total_velocity['Depth'] = np.arange()\n",
    "depth = np.arange(1,how_many+1)\n",
    "depth = depth*.7\n",
    "total_velocity['Depth (m)'] = depth\n",
    "total_velocity['Direction1'] = resultsN\n",
    "total_velocity['Direction2'] = resultsE\n",
    "print(total_velocity)"
   ]
  },
  {
   "cell_type": "code",
   "execution_count": 526,
   "metadata": {
    "collapsed": false
   },
   "outputs": [],
   "source": [
    "total_velocity.to_csv(path +'/ADP_vector.csv')"
   ]
  }
 ],
 "metadata": {
  "kernelspec": {
   "display_name": "Python 3",
   "language": "python",
   "name": "python3"
  },
  "language_info": {
   "codemirror_mode": {
    "name": "ipython",
    "version": 3
   },
   "file_extension": ".py",
   "mimetype": "text/x-python",
   "name": "python",
   "nbconvert_exporter": "python",
   "pygments_lexer": "ipython3",
   "version": "3.6.0"
  }
 },
 "nbformat": 4,
 "nbformat_minor": 2
}
